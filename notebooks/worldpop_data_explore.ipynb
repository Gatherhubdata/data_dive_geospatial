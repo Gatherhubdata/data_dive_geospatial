{
 "cells": [
  {
   "cell_type": "markdown",
   "metadata": {},
   "source": [
    "### WorldPop: 100m population data\n",
    "open, explore, attempt to map/associate with Sec2 (lat/lon) sanitation data"
   ]
  },
  {
   "cell_type": "code",
   "execution_count": 1,
   "metadata": {},
   "outputs": [],
   "source": [
    "%matplotlib inline\n",
    "\n",
    "import pandas as pd\n",
    "import matplotlib.pyplot as plt\n",
    "import seaborn as sns\n",
    "import rasterio"
   ]
  },
  {
   "cell_type": "code",
   "execution_count": 2,
   "metadata": {},
   "outputs": [],
   "source": [
    "pop_tiff = \"data/worldpop/ZMB_ppp_v2c_2015.tif\"\n",
    "pop_tfw = \"data/worldpop/ZMB_ppp_v2c_2015.tfw\""
   ]
  },
  {
   "cell_type": "code",
   "execution_count": 3,
   "metadata": {},
   "outputs": [],
   "source": [
    "zam_aff = (a,b,c,d,e,f) = open(pop_tfw, \"r\").read().split()"
   ]
  },
  {
   "cell_type": "code",
   "execution_count": 4,
   "metadata": {},
   "outputs": [
    {
     "data": {
      "text/plain": [
       "['0.0008333000',\n",
       " '0.0000000000',\n",
       " '0.0000000000',\n",
       " '-0.0008333000',\n",
       " '21.9996066369',\n",
       " '-8.2243503635']"
      ]
     },
     "execution_count": 4,
     "metadata": {},
     "output_type": "execute_result"
    }
   ],
   "source": [
    "zam_aff"
   ]
  },
  {
   "cell_type": "code",
   "execution_count": 17,
   "metadata": {},
   "outputs": [
    {
     "data": {
      "text/plain": [
       "<open RasterReader name='data/worldpop/ZMB_ppp_v2c_2015.tif' mode='r'>"
      ]
     },
     "execution_count": 17,
     "metadata": {},
     "output_type": "execute_result"
    }
   ],
   "source": [
    "zam_pop = rasterio.open(pop_tiff)\n",
    "zam_pop"
   ]
  },
  {
   "cell_type": "markdown",
   "metadata": {},
   "source": [
    "#### Explore Rasterio obj"
   ]
  },
  {
   "cell_type": "code",
   "execution_count": 6,
   "metadata": {},
   "outputs": [
    {
     "data": {
      "text/plain": [
       "('data/worldpop/ZMB_ppp_v2c_2015.tif', 1, 14049, 11828)"
      ]
     },
     "execution_count": 6,
     "metadata": {},
     "output_type": "execute_result"
    }
   ],
   "source": [
    "zam_pop.name, zam_pop.count, zam_pop.width, zam_pop.height"
   ]
  },
  {
   "cell_type": "code",
   "execution_count": 7,
   "metadata": {},
   "outputs": [
    {
     "data": {
      "text/plain": [
       "BoundingBox(left=21.99918998694486, bottom=-18.080206113491325, right=33.70622168694486, top=-8.223933713491325)"
      ]
     },
     "execution_count": 7,
     "metadata": {},
     "output_type": "execute_result"
    }
   ],
   "source": [
    "zam_pop.bounds"
   ]
  },
  {
   "cell_type": "code",
   "execution_count": 15,
   "metadata": {},
   "outputs": [
    {
     "data": {
      "text/plain": [
       "Affine(0.0008332999999999998, 0.0, 21.99918998694486,\n",
       "       0.0, -0.0008333, -8.223933713491325)"
      ]
     },
     "execution_count": 15,
     "metadata": {},
     "output_type": "execute_result"
    }
   ],
   "source": [
    "## Affine trans object\n",
    "zam_pop.affine"
   ]
  },
  {
   "cell_type": "code",
   "execution_count": 16,
   "metadata": {},
   "outputs": [
    {
     "name": "stderr",
     "output_type": "stream",
     "text": [
      "/Users/dpb/dev/gather/venv/lib/python3.5/site-packages/IPython/core/interactiveshell.py:2910: FutureWarning: The value of this property will change in version 1.0. Please see https://github.com/mapbox/rasterio/issues/86 for details.\n",
      "  exec(code_obj, self.user_global_ns, self.user_ns)\n"
     ]
    },
    {
     "data": {
      "text/plain": [
       "[21.99918998694486,\n",
       " 0.0008332999999999998,\n",
       " 0.0,\n",
       " -8.223933713491325,\n",
       " 0.0,\n",
       " -0.0008333]"
      ]
     },
     "execution_count": 16,
     "metadata": {},
     "output_type": "execute_result"
    }
   ],
   "source": [
    "## Affine transformation matrix\n",
    "zam_pop.transform"
   ]
  },
  {
   "cell_type": "code",
   "execution_count": 25,
   "metadata": {},
   "outputs": [],
   "source": [
    "def getxy(robj, i, j):\n",
    "    ## Tranform row_i, col_j (tiff row/col indexes) to geospatial coordinates\n",
    "    ## Result is upper-left box corner (https://mapbox.github.io/rasterio/topics/georeferencing.html)\n",
    "    lon, lat = robj.affine * (i,j)\n",
    "    return lat, lon"
   ]
  },
  {
   "cell_type": "code",
   "execution_count": 78,
   "metadata": {},
   "outputs": [],
   "source": [
    "def in_geobox(lat, lon, tl_lat, tl_lon, br_lat, br_lon):\n",
    "    if lat <= tl_lat and lat >= br_lat and lon >= tl_lon and lon <= br_lon:\n",
    "        return True\n",
    "    else:\n",
    "        return False"
   ]
  },
  {
   "cell_type": "code",
   "execution_count": 79,
   "metadata": {},
   "outputs": [
    {
     "data": {
      "text/plain": [
       "(-18.080206113491325, 33.70622168694486)"
      ]
     },
     "execution_count": 79,
     "metadata": {},
     "output_type": "execute_result"
    }
   ],
   "source": [
    "getxy(zam_pop, 0, 0), \n",
    "getxy(zam_pop, zam_pop.width, zam_pop.height)"
   ]
  },
  {
   "cell_type": "markdown",
   "metadata": {},
   "source": [
    "#### Get cell-wise values, build lat-lon borders"
   ]
  },
  {
   "cell_type": "code",
   "execution_count": 11,
   "metadata": {},
   "outputs": [
    {
     "data": {
      "text/plain": [
       "(11828, 14049)"
      ]
     },
     "execution_count": 11,
     "metadata": {},
     "output_type": "execute_result"
    }
   ],
   "source": [
    "zam_data = zam_pop.read(1)\n",
    "zam_data.shape"
   ]
  },
  {
   "cell_type": "code",
   "execution_count": 39,
   "metadata": {},
   "outputs": [],
   "source": [
    "## get index range around lusaka (shrink search space)\n",
    "kanyama_center_lat = -15.432397\n",
    "kanyama_center_lon = 28.238683"
   ]
  },
  {
   "cell_type": "code",
   "execution_count": 66,
   "metadata": {},
   "outputs": [],
   "source": [
    "# Lat indices\n",
    "lus_row_start, lus_row_end = int(zam_pop.height * 0.71), int(zam_pop.height * 0.74), "
   ]
  },
  {
   "cell_type": "code",
   "execution_count": 69,
   "metadata": {},
   "outputs": [],
   "source": [
    "# Lon indices\n",
    "lus_col_start, lus_col_end = int(zam_pop.width * 0.51), int(zam_pop.width * 0.55)"
   ]
  },
  {
   "cell_type": "code",
   "execution_count": 80,
   "metadata": {},
   "outputs": [],
   "source": [
    "## Store lat/lon top-left, bottom-right pairs by i,j row-col indedx\n",
    "\n",
    "grid_latlons = {}\n",
    "\n",
    "for i in range(zam_pop.height):\n",
    "    if not(i >= lus_row_start and i <= lus_row_end):\n",
    "        continue\n",
    "    for j in range(zam_pop.width):\n",
    "        if not(j >= lus_col_start and j <= lus_col_end):\n",
    "            continue\n",
    "        tl_lat, tl_lon = getxy(zam_pop, i, j)\n",
    "        br_lat, br_lon = getxy(zam_pop, i + 1, j + 1)\n",
    "        grid_latlons[(i,j)] = [tl_lat, tl_lon, br_lat, br_lon]"
   ]
  },
  {
   "cell_type": "markdown",
   "metadata": {},
   "source": [
    "#### Merge w/sec2 data"
   ]
  },
  {
   "cell_type": "code",
   "execution_count": 73,
   "metadata": {},
   "outputs": [],
   "source": [
    "s2_file = \"/Users/dpb/dev/gather/data/tidy_data_questionnaire_section_2.csv\""
   ]
  },
  {
   "cell_type": "code",
   "execution_count": 74,
   "metadata": {},
   "outputs": [
    {
     "data": {
      "text/html": [
       "<div>\n",
       "<style scoped>\n",
       "    .dataframe tbody tr th:only-of-type {\n",
       "        vertical-align: middle;\n",
       "    }\n",
       "\n",
       "    .dataframe tbody tr th {\n",
       "        vertical-align: top;\n",
       "    }\n",
       "\n",
       "    .dataframe thead th {\n",
       "        text-align: right;\n",
       "    }\n",
       "</style>\n",
       "<table border=\"1\" class=\"dataframe\">\n",
       "  <thead>\n",
       "    <tr style=\"text-align: right;\">\n",
       "      <th></th>\n",
       "      <th>id</th>\n",
       "      <th>respondent</th>\n",
       "      <th>sex</th>\n",
       "      <th>plot_months</th>\n",
       "      <th>type_of_property</th>\n",
       "      <th>no_of_hhs</th>\n",
       "      <th>no_of_ppl</th>\n",
       "      <th>s2q9a54</th>\n",
       "      <th>type_of_toilet</th>\n",
       "      <th>no_of_toilets</th>\n",
       "      <th>add_toilets</th>\n",
       "      <th>water_source</th>\n",
       "      <th>water_source_other</th>\n",
       "      <th>latitude</th>\n",
       "      <th>longitude</th>\n",
       "      <th>accuracy</th>\n",
       "      <th>altitude</th>\n",
       "    </tr>\n",
       "  </thead>\n",
       "  <tbody>\n",
       "    <tr>\n",
       "      <th>0</th>\n",
       "      <td>id_00001</td>\n",
       "      <td>NaN</td>\n",
       "      <td>NaN</td>\n",
       "      <td>NaN</td>\n",
       "      <td>NaN</td>\n",
       "      <td>NaN</td>\n",
       "      <td>NaN</td>\n",
       "      <td>NaN</td>\n",
       "      <td>NaN</td>\n",
       "      <td>NaN</td>\n",
       "      <td>NaN</td>\n",
       "      <td>NaN</td>\n",
       "      <td>NaN</td>\n",
       "      <td>NaN</td>\n",
       "      <td>NaN</td>\n",
       "      <td>NaN</td>\n",
       "      <td>NaN</td>\n",
       "    </tr>\n",
       "    <tr>\n",
       "      <th>1</th>\n",
       "      <td>id_00002</td>\n",
       "      <td>landlord</td>\n",
       "      <td>female</td>\n",
       "      <td>1.0</td>\n",
       "      <td>residential</td>\n",
       "      <td>4.0</td>\n",
       "      <td>25.0</td>\n",
       "      <td>NaN</td>\n",
       "      <td>pit_latrine_lined</td>\n",
       "      <td>1.0</td>\n",
       "      <td>NaN</td>\n",
       "      <td>other_specify</td>\n",
       "      <td>Lusaka water connected tap</td>\n",
       "      <td>NaN</td>\n",
       "      <td>NaN</td>\n",
       "      <td>NaN</td>\n",
       "      <td>NaN</td>\n",
       "    </tr>\n",
       "    <tr>\n",
       "      <th>2</th>\n",
       "      <td>id_00003</td>\n",
       "      <td>tenant</td>\n",
       "      <td>male</td>\n",
       "      <td>48.0</td>\n",
       "      <td>residential</td>\n",
       "      <td>4.0</td>\n",
       "      <td>22.0</td>\n",
       "      <td>NaN</td>\n",
       "      <td>NaN</td>\n",
       "      <td>NaN</td>\n",
       "      <td>yes_4</td>\n",
       "      <td>individual_connection</td>\n",
       "      <td>NaN</td>\n",
       "      <td>NaN</td>\n",
       "      <td>NaN</td>\n",
       "      <td>NaN</td>\n",
       "      <td>NaN</td>\n",
       "    </tr>\n",
       "  </tbody>\n",
       "</table>\n",
       "</div>"
      ],
      "text/plain": [
       "         id respondent     sex  plot_months type_of_property  no_of_hhs  \\\n",
       "0  id_00001        NaN     NaN          NaN              NaN        NaN   \n",
       "1  id_00002   landlord  female          1.0      residential        4.0   \n",
       "2  id_00003     tenant    male         48.0      residential        4.0   \n",
       "\n",
       "   no_of_ppl s2q9a54     type_of_toilet  no_of_toilets add_toilets  \\\n",
       "0        NaN     NaN                NaN            NaN         NaN   \n",
       "1       25.0     NaN  pit_latrine_lined            1.0         NaN   \n",
       "2       22.0     NaN                NaN            NaN       yes_4   \n",
       "\n",
       "            water_source          water_source_other  latitude  longitude  \\\n",
       "0                    NaN                         NaN       NaN        NaN   \n",
       "1          other_specify  Lusaka water connected tap       NaN        NaN   \n",
       "2  individual_connection                         NaN       NaN        NaN   \n",
       "\n",
       "   accuracy  altitude  \n",
       "0       NaN       NaN  \n",
       "1       NaN       NaN  \n",
       "2       NaN       NaN  "
      ]
     },
     "execution_count": 74,
     "metadata": {},
     "output_type": "execute_result"
    }
   ],
   "source": [
    "s2 = pd.read_csv(s2_file)\n",
    "s2.head(3)"
   ]
  },
  {
   "cell_type": "code",
   "execution_count": null,
   "metadata": {},
   "outputs": [],
   "source": [
    "pop_idx_col = []\n",
    "pop_val_vol = []\n",
    "found = False\n",
    "\n",
    "for i, row in s2.iterrows():\n",
    "    for tif_idx, tif_box in grid_latlons.items():\n",
    "        if in_geobox(row.latitude, row.longitude, *tif_box):\n",
    "            pop_idx_col.append(tif_idx)\n",
    "            pop_val_vol.append(zam_data[tif_idx[0], tif_idx[1]])\n",
    "            found = True\n",
    "            break\n",
    "    if found:\n",
    "        found = False\n",
    "        continue\n",
    "            "
   ]
  },
  {
   "cell_type": "code",
   "execution_count": null,
   "metadata": {},
   "outputs": [],
   "source": []
  }
 ],
 "metadata": {
  "kernelspec": {
   "display_name": "Python 3",
   "language": "python",
   "name": "python3"
  },
  "language_info": {
   "codemirror_mode": {
    "name": "ipython",
    "version": 3
   },
   "file_extension": ".py",
   "mimetype": "text/x-python",
   "name": "python",
   "nbconvert_exporter": "python",
   "pygments_lexer": "ipython3",
   "version": "3.5.1"
  }
 },
 "nbformat": 4,
 "nbformat_minor": 2
}
