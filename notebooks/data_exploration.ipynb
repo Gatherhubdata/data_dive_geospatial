{
 "cells": [
  {
   "cell_type": "code",
   "execution_count": 1,
   "metadata": {},
   "outputs": [],
   "source": [
    "%matplotlib inline\n",
    "\n",
    "import numpy as np\n",
    "import pandas as pd\n",
    "import seaborn as sns\n",
    "import matplotlib.pyplot as plt"
   ]
  },
  {
   "cell_type": "code",
   "execution_count": 2,
   "metadata": {},
   "outputs": [],
   "source": [
    "s2_file = \"/Users/dpb/dev/gather/data/tidy_data_questionnaire_section_2.csv\"\n",
    "s3_file = \"/Users/dpb/dev/gather/data/tidy_data_questionnaire_section_3_wide.csv\"\n",
    "s4_file = \"/Users/dpb/dev/gather/data/tidy_data_questionnaire_section_4.csv\"\n",
    "s5_file = \"/Users/dpb/dev/gather/data/tidy_data_questionnaire_section_5.csv\"\n",
    "s7_file = \"/Users/dpb/dev/gather/data/tidy_data_questionnaire_section_7.csv\"\n",
    "s8_file = \"/Users/dpb/dev/gather/data/tidy_data_questionnaire_section_8.csv\""
   ]
  },
  {
   "cell_type": "markdown",
   "metadata": {},
   "source": [
    "### Load data"
   ]
  },
  {
   "cell_type": "code",
   "execution_count": 3,
   "metadata": {},
   "outputs": [
    {
     "data": {
      "text/html": [
       "<div>\n",
       "<style scoped>\n",
       "    .dataframe tbody tr th:only-of-type {\n",
       "        vertical-align: middle;\n",
       "    }\n",
       "\n",
       "    .dataframe tbody tr th {\n",
       "        vertical-align: top;\n",
       "    }\n",
       "\n",
       "    .dataframe thead th {\n",
       "        text-align: right;\n",
       "    }\n",
       "</style>\n",
       "<table border=\"1\" class=\"dataframe\">\n",
       "  <thead>\n",
       "    <tr style=\"text-align: right;\">\n",
       "      <th></th>\n",
       "      <th>id</th>\n",
       "      <th>respondent</th>\n",
       "      <th>sex</th>\n",
       "      <th>plot_months</th>\n",
       "      <th>type_of_property</th>\n",
       "      <th>no_of_hhs</th>\n",
       "      <th>no_of_ppl</th>\n",
       "      <th>s2q9a54</th>\n",
       "      <th>type_of_toilet</th>\n",
       "      <th>no_of_toilets</th>\n",
       "      <th>add_toilets</th>\n",
       "      <th>water_source</th>\n",
       "      <th>water_source_other</th>\n",
       "      <th>latitude</th>\n",
       "      <th>longitude</th>\n",
       "      <th>accuracy</th>\n",
       "      <th>altitude</th>\n",
       "    </tr>\n",
       "  </thead>\n",
       "  <tbody>\n",
       "    <tr>\n",
       "      <th>0</th>\n",
       "      <td>id_00001</td>\n",
       "      <td>NaN</td>\n",
       "      <td>NaN</td>\n",
       "      <td>NaN</td>\n",
       "      <td>NaN</td>\n",
       "      <td>NaN</td>\n",
       "      <td>NaN</td>\n",
       "      <td>NaN</td>\n",
       "      <td>NaN</td>\n",
       "      <td>NaN</td>\n",
       "      <td>NaN</td>\n",
       "      <td>NaN</td>\n",
       "      <td>NaN</td>\n",
       "      <td>NaN</td>\n",
       "      <td>NaN</td>\n",
       "      <td>NaN</td>\n",
       "      <td>NaN</td>\n",
       "    </tr>\n",
       "    <tr>\n",
       "      <th>1</th>\n",
       "      <td>id_00002</td>\n",
       "      <td>landlord</td>\n",
       "      <td>female</td>\n",
       "      <td>1.0</td>\n",
       "      <td>residential</td>\n",
       "      <td>4.0</td>\n",
       "      <td>25.0</td>\n",
       "      <td>NaN</td>\n",
       "      <td>pit_latrine_lined</td>\n",
       "      <td>1.0</td>\n",
       "      <td>NaN</td>\n",
       "      <td>other_specify</td>\n",
       "      <td>Lusaka water connected tap</td>\n",
       "      <td>NaN</td>\n",
       "      <td>NaN</td>\n",
       "      <td>NaN</td>\n",
       "      <td>NaN</td>\n",
       "    </tr>\n",
       "    <tr>\n",
       "      <th>2</th>\n",
       "      <td>id_00003</td>\n",
       "      <td>tenant</td>\n",
       "      <td>male</td>\n",
       "      <td>48.0</td>\n",
       "      <td>residential</td>\n",
       "      <td>4.0</td>\n",
       "      <td>22.0</td>\n",
       "      <td>NaN</td>\n",
       "      <td>NaN</td>\n",
       "      <td>NaN</td>\n",
       "      <td>yes_4</td>\n",
       "      <td>individual_connection</td>\n",
       "      <td>NaN</td>\n",
       "      <td>NaN</td>\n",
       "      <td>NaN</td>\n",
       "      <td>NaN</td>\n",
       "      <td>NaN</td>\n",
       "    </tr>\n",
       "  </tbody>\n",
       "</table>\n",
       "</div>"
      ],
      "text/plain": [
       "         id respondent     sex  plot_months type_of_property  no_of_hhs  \\\n",
       "0  id_00001        NaN     NaN          NaN              NaN        NaN   \n",
       "1  id_00002   landlord  female          1.0      residential        4.0   \n",
       "2  id_00003     tenant    male         48.0      residential        4.0   \n",
       "\n",
       "   no_of_ppl s2q9a54     type_of_toilet  no_of_toilets add_toilets  \\\n",
       "0        NaN     NaN                NaN            NaN         NaN   \n",
       "1       25.0     NaN  pit_latrine_lined            1.0         NaN   \n",
       "2       22.0     NaN                NaN            NaN       yes_4   \n",
       "\n",
       "            water_source          water_source_other  latitude  longitude  \\\n",
       "0                    NaN                         NaN       NaN        NaN   \n",
       "1          other_specify  Lusaka water connected tap       NaN        NaN   \n",
       "2  individual_connection                         NaN       NaN        NaN   \n",
       "\n",
       "   accuracy  altitude  \n",
       "0       NaN       NaN  \n",
       "1       NaN       NaN  \n",
       "2       NaN       NaN  "
      ]
     },
     "execution_count": 3,
     "metadata": {},
     "output_type": "execute_result"
    }
   ],
   "source": [
    "s2 = pd.read_csv(s2_file)\n",
    "s2.head(3)"
   ]
  },
  {
   "cell_type": "code",
   "execution_count": 4,
   "metadata": {},
   "outputs": [
    {
     "data": {
      "text/html": [
       "<div>\n",
       "<style scoped>\n",
       "    .dataframe tbody tr th:only-of-type {\n",
       "        vertical-align: middle;\n",
       "    }\n",
       "\n",
       "    .dataframe tbody tr th {\n",
       "        vertical-align: top;\n",
       "    }\n",
       "\n",
       "    .dataframe thead th {\n",
       "        text-align: right;\n",
       "    }\n",
       "</style>\n",
       "<table border=\"1\" class=\"dataframe\">\n",
       "  <thead>\n",
       "    <tr style=\"text-align: right;\">\n",
       "      <th></th>\n",
       "      <th>id</th>\n",
       "      <th>solid_waste_disp</th>\n",
       "      <th>adults_female</th>\n",
       "      <th>adults_male</th>\n",
       "      <th>children_female</th>\n",
       "      <th>children_male</th>\n",
       "    </tr>\n",
       "  </thead>\n",
       "  <tbody>\n",
       "    <tr>\n",
       "      <th>0</th>\n",
       "      <td>id_00001</td>\n",
       "      <td>NaN</td>\n",
       "      <td>NaN</td>\n",
       "      <td>NaN</td>\n",
       "      <td>NaN</td>\n",
       "      <td>NaN</td>\n",
       "    </tr>\n",
       "    <tr>\n",
       "      <th>1</th>\n",
       "      <td>id_00002</td>\n",
       "      <td>bin_collected_CBEs</td>\n",
       "      <td>4.0</td>\n",
       "      <td>3.0</td>\n",
       "      <td>13.0</td>\n",
       "      <td>4.0</td>\n",
       "    </tr>\n",
       "    <tr>\n",
       "      <th>2</th>\n",
       "      <td>id_00003</td>\n",
       "      <td>bin_self_disposed</td>\n",
       "      <td>7.0</td>\n",
       "      <td>8.0</td>\n",
       "      <td>3.0</td>\n",
       "      <td>4.0</td>\n",
       "    </tr>\n",
       "  </tbody>\n",
       "</table>\n",
       "</div>"
      ],
      "text/plain": [
       "         id    solid_waste_disp  adults_female  adults_male  children_female  \\\n",
       "0  id_00001                 NaN            NaN          NaN              NaN   \n",
       "1  id_00002  bin_collected_CBEs            4.0          3.0             13.0   \n",
       "2  id_00003   bin_self_disposed            7.0          8.0              3.0   \n",
       "\n",
       "   children_male  \n",
       "0            NaN  \n",
       "1            4.0  \n",
       "2            4.0  "
      ]
     },
     "execution_count": 4,
     "metadata": {},
     "output_type": "execute_result"
    }
   ],
   "source": [
    "s3 = pd.read_csv(s3_file)\n",
    "s3.head(3)"
   ]
  },
  {
   "cell_type": "code",
   "execution_count": 5,
   "metadata": {},
   "outputs": [
    {
     "data": {
      "text/html": [
       "<div>\n",
       "<style scoped>\n",
       "    .dataframe tbody tr th:only-of-type {\n",
       "        vertical-align: middle;\n",
       "    }\n",
       "\n",
       "    .dataframe tbody tr th {\n",
       "        vertical-align: top;\n",
       "    }\n",
       "\n",
       "    .dataframe thead th {\n",
       "        text-align: right;\n",
       "    }\n",
       "</style>\n",
       "<table border=\"1\" class=\"dataframe\">\n",
       "  <thead>\n",
       "    <tr style=\"text-align: right;\">\n",
       "      <th></th>\n",
       "      <th>id</th>\n",
       "      <th>age_toilet_1</th>\n",
       "      <th>age_toilet_2</th>\n",
       "      <th>age_toilet_3</th>\n",
       "      <th>when_toilet_full</th>\n",
       "      <th>ever_emptied</th>\n",
       "      <th>when_last_emptied</th>\n",
       "      <th>know_emptying_service</th>\n",
       "      <th>who_emptied</th>\n",
       "      <th>how_often_emptied_mo</th>\n",
       "      <th>how_often_emptied_other</th>\n",
       "      <th>when_next_full_mo</th>\n",
       "      <th>why_never_emptied</th>\n",
       "    </tr>\n",
       "  </thead>\n",
       "  <tbody>\n",
       "    <tr>\n",
       "      <th>0</th>\n",
       "      <td>id_00001</td>\n",
       "      <td>NaN</td>\n",
       "      <td>NaN</td>\n",
       "      <td>NaN</td>\n",
       "      <td>NaN</td>\n",
       "      <td>NaN</td>\n",
       "      <td>NaN</td>\n",
       "      <td>NaN</td>\n",
       "      <td>NaN</td>\n",
       "      <td>NaN</td>\n",
       "      <td>NaN</td>\n",
       "      <td>NaN</td>\n",
       "      <td>NaN</td>\n",
       "    </tr>\n",
       "    <tr>\n",
       "      <th>1</th>\n",
       "      <td>id_00002</td>\n",
       "      <td>36.0</td>\n",
       "      <td>NaN</td>\n",
       "      <td>NaN</td>\n",
       "      <td>empty_and_reuse</td>\n",
       "      <td>yes</td>\n",
       "      <td>between_five_and_six_months</td>\n",
       "      <td>friend_familiy_neighbor</td>\n",
       "      <td>other</td>\n",
       "      <td>NaN</td>\n",
       "      <td>NaN</td>\n",
       "      <td>6.0</td>\n",
       "      <td>NaN</td>\n",
       "    </tr>\n",
       "    <tr>\n",
       "      <th>2</th>\n",
       "      <td>id_00003</td>\n",
       "      <td>NaN</td>\n",
       "      <td>NaN</td>\n",
       "      <td>NaN</td>\n",
       "      <td>NaN</td>\n",
       "      <td>NaN</td>\n",
       "      <td>NaN</td>\n",
       "      <td>NaN</td>\n",
       "      <td>NaN</td>\n",
       "      <td>NaN</td>\n",
       "      <td>NaN</td>\n",
       "      <td>NaN</td>\n",
       "      <td>NaN</td>\n",
       "    </tr>\n",
       "  </tbody>\n",
       "</table>\n",
       "</div>"
      ],
      "text/plain": [
       "         id  age_toilet_1  age_toilet_2  age_toilet_3 when_toilet_full  \\\n",
       "0  id_00001           NaN           NaN           NaN              NaN   \n",
       "1  id_00002          36.0           NaN           NaN  empty_and_reuse   \n",
       "2  id_00003           NaN           NaN           NaN              NaN   \n",
       "\n",
       "  ever_emptied            when_last_emptied    know_emptying_service  \\\n",
       "0          NaN                          NaN                      NaN   \n",
       "1          yes  between_five_and_six_months  friend_familiy_neighbor   \n",
       "2          NaN                          NaN                      NaN   \n",
       "\n",
       "  who_emptied  how_often_emptied_mo how_often_emptied_other  \\\n",
       "0         NaN                   NaN                     NaN   \n",
       "1       other                   NaN                     NaN   \n",
       "2         NaN                   NaN                     NaN   \n",
       "\n",
       "   when_next_full_mo why_never_emptied  \n",
       "0                NaN               NaN  \n",
       "1                6.0               NaN  \n",
       "2                NaN               NaN  "
      ]
     },
     "execution_count": 5,
     "metadata": {},
     "output_type": "execute_result"
    }
   ],
   "source": [
    "s4 = pd.read_csv(s4_file)\n",
    "s4.head(3)"
   ]
  },
  {
   "cell_type": "code",
   "execution_count": 6,
   "metadata": {},
   "outputs": [],
   "source": [
    "s5 = pd.read_csv(s5_file)"
   ]
  },
  {
   "cell_type": "markdown",
   "metadata": {},
   "source": [
    "### Clean and aggregate"
   ]
  },
  {
   "cell_type": "code",
   "execution_count": 30,
   "metadata": {},
   "outputs": [],
   "source": [
    "def nanmax(d_list):\n",
    "    d_list_non_nan = d_list.dropna()\n",
    "    if d_list_non_nan.shape[0] == 0:\n",
    "        return np.NaN\n",
    "    else:\n",
    "        return max(list(d_list_non_nan))"
   ]
  },
  {
   "cell_type": "code",
   "execution_count": 31,
   "metadata": {},
   "outputs": [
    {
     "data": {
      "text/html": [
       "<div>\n",
       "<style scoped>\n",
       "    .dataframe tbody tr th:only-of-type {\n",
       "        vertical-align: middle;\n",
       "    }\n",
       "\n",
       "    .dataframe tbody tr th {\n",
       "        vertical-align: top;\n",
       "    }\n",
       "\n",
       "    .dataframe thead th {\n",
       "        text-align: right;\n",
       "    }\n",
       "</style>\n",
       "<table border=\"1\" class=\"dataframe\">\n",
       "  <thead>\n",
       "    <tr style=\"text-align: right;\">\n",
       "      <th></th>\n",
       "      <th>latitude</th>\n",
       "      <th>longitude</th>\n",
       "      <th>plot_months</th>\n",
       "      <th>no_of_hhs</th>\n",
       "      <th>no_of_ppl</th>\n",
       "      <th>no_of_toilets</th>\n",
       "    </tr>\n",
       "    <tr>\n",
       "      <th>id</th>\n",
       "      <th></th>\n",
       "      <th></th>\n",
       "      <th></th>\n",
       "      <th></th>\n",
       "      <th></th>\n",
       "      <th></th>\n",
       "    </tr>\n",
       "  </thead>\n",
       "  <tbody>\n",
       "    <tr>\n",
       "      <th>id_00004</th>\n",
       "      <td>-15.431633</td>\n",
       "      <td>28.245173</td>\n",
       "      <td>192.0</td>\n",
       "      <td>13.0</td>\n",
       "      <td>38.0</td>\n",
       "      <td>1.0</td>\n",
       "    </tr>\n",
       "    <tr>\n",
       "      <th>id_00005</th>\n",
       "      <td>-15.430095</td>\n",
       "      <td>28.242203</td>\n",
       "      <td>5.0</td>\n",
       "      <td>4.0</td>\n",
       "      <td>14.0</td>\n",
       "      <td>1.0</td>\n",
       "    </tr>\n",
       "    <tr>\n",
       "      <th>id_00009</th>\n",
       "      <td>-15.431480</td>\n",
       "      <td>28.244395</td>\n",
       "      <td>132.0</td>\n",
       "      <td>7.0</td>\n",
       "      <td>19.0</td>\n",
       "      <td>1.0</td>\n",
       "    </tr>\n",
       "  </tbody>\n",
       "</table>\n",
       "</div>"
      ],
      "text/plain": [
       "           latitude  longitude  plot_months  no_of_hhs  no_of_ppl  \\\n",
       "id                                                                  \n",
       "id_00004 -15.431633  28.245173        192.0       13.0       38.0   \n",
       "id_00005 -15.430095  28.242203          5.0        4.0       14.0   \n",
       "id_00009 -15.431480  28.244395        132.0        7.0       19.0   \n",
       "\n",
       "          no_of_toilets  \n",
       "id                       \n",
       "id_00004            1.0  \n",
       "id_00005            1.0  \n",
       "id_00009            1.0  "
      ]
     },
     "execution_count": 31,
     "metadata": {},
     "output_type": "execute_result"
    }
   ],
   "source": [
    "agg_def = {\n",
    "    'id': nanmax,\n",
    "    'respondent': nanmax,\n",
    "    'sex': nanmax,\n",
    "    'plot_months': nanmax,\n",
    "    'type_of_property': nanmax,\n",
    "    'no_of_hhs': nanmax,\n",
    "    'no_of_ppl': nanmax,\n",
    "    'no_of_toilets': sum,\n",
    "    'add_toilets': nanmax,\n",
    "    'water_source': nanmax,\n",
    "    'water_source_other': nanmax,\n",
    "    'latitude': nanmax,\n",
    "    'longitude': nanmax,\n",
    "    'accuracy': nanmax,\n",
    "    'altitude': nanmax,\n",
    "}\n",
    "id_groups = s2.groupby(\"id\")\n",
    "s2_agg = id_groups.aggregate(agg_def)\n",
    "\n",
    "\n",
    "loc_data = s2_agg[[\"id\", \"latitude\", \"longitude\", \"plot_months\", \"no_of_hhs\", \"no_of_ppl\",\n",
    "    \"no_of_toilets\"]].dropna(how=\"any\")\n",
    "loc_data.set_index(\"id\", inplace=True)\n",
    "loc_data.head(3)"
   ]
  },
  {
   "cell_type": "markdown",
   "metadata": {},
   "source": [
    "### Summary #s"
   ]
  },
  {
   "cell_type": "code",
   "execution_count": 32,
   "metadata": {},
   "outputs": [
    {
     "data": {
      "text/plain": [
       "pit_latrine_lined      8150\n",
       "pour_flush_outside     2601\n",
       "disused_buried         2362\n",
       "pit_latrine_unlined    1166\n",
       "flush_inside            722\n",
       "flush_outside           512\n",
       "VIP                     344\n",
       "pour_flush_inside       330\n",
       "UDDT                     79\n",
       "Name: type_of_toilet, dtype: int64"
      ]
     },
     "execution_count": 32,
     "metadata": {},
     "output_type": "execute_result"
    }
   ],
   "source": [
    "s2.type_of_toilet.value_counts()"
   ]
  },
  {
   "cell_type": "code",
   "execution_count": 33,
   "metadata": {},
   "outputs": [
    {
     "data": {
      "text/html": [
       "<div>\n",
       "<style scoped>\n",
       "    .dataframe tbody tr th:only-of-type {\n",
       "        vertical-align: middle;\n",
       "    }\n",
       "\n",
       "    .dataframe tbody tr th {\n",
       "        vertical-align: top;\n",
       "    }\n",
       "\n",
       "    .dataframe thead th {\n",
       "        text-align: right;\n",
       "    }\n",
       "</style>\n",
       "<table border=\"1\" class=\"dataframe\">\n",
       "  <thead>\n",
       "    <tr style=\"text-align: right;\">\n",
       "      <th></th>\n",
       "      <th>sex</th>\n",
       "      <th>water_source_other</th>\n",
       "      <th>no_of_ppl</th>\n",
       "      <th>plot_months</th>\n",
       "      <th>type_of_property</th>\n",
       "      <th>no_of_hhs</th>\n",
       "      <th>no_of_toilets</th>\n",
       "      <th>latitude</th>\n",
       "      <th>id</th>\n",
       "      <th>accuracy</th>\n",
       "      <th>altitude</th>\n",
       "      <th>water_source</th>\n",
       "      <th>respondent</th>\n",
       "      <th>longitude</th>\n",
       "      <th>add_toilets</th>\n",
       "    </tr>\n",
       "    <tr>\n",
       "      <th>id</th>\n",
       "      <th></th>\n",
       "      <th></th>\n",
       "      <th></th>\n",
       "      <th></th>\n",
       "      <th></th>\n",
       "      <th></th>\n",
       "      <th></th>\n",
       "      <th></th>\n",
       "      <th></th>\n",
       "      <th></th>\n",
       "      <th></th>\n",
       "      <th></th>\n",
       "      <th></th>\n",
       "      <th></th>\n",
       "      <th></th>\n",
       "    </tr>\n",
       "  </thead>\n",
       "  <tbody>\n",
       "    <tr>\n",
       "      <th>id_00001</th>\n",
       "      <td>NaN</td>\n",
       "      <td>NaN</td>\n",
       "      <td>NaN</td>\n",
       "      <td>NaN</td>\n",
       "      <td>NaN</td>\n",
       "      <td>NaN</td>\n",
       "      <td>0.0</td>\n",
       "      <td>NaN</td>\n",
       "      <td>id_00001</td>\n",
       "      <td>NaN</td>\n",
       "      <td>NaN</td>\n",
       "      <td>NaN</td>\n",
       "      <td>NaN</td>\n",
       "      <td>NaN</td>\n",
       "      <td>NaN</td>\n",
       "    </tr>\n",
       "    <tr>\n",
       "      <th>id_00002</th>\n",
       "      <td>female</td>\n",
       "      <td>Lusaka water connected tap</td>\n",
       "      <td>25.0</td>\n",
       "      <td>1.0</td>\n",
       "      <td>residential</td>\n",
       "      <td>4.0</td>\n",
       "      <td>1.0</td>\n",
       "      <td>NaN</td>\n",
       "      <td>id_00002</td>\n",
       "      <td>NaN</td>\n",
       "      <td>NaN</td>\n",
       "      <td>other_specify</td>\n",
       "      <td>landlord</td>\n",
       "      <td>NaN</td>\n",
       "      <td>NaN</td>\n",
       "    </tr>\n",
       "    <tr>\n",
       "      <th>id_00003</th>\n",
       "      <td>male</td>\n",
       "      <td>NaN</td>\n",
       "      <td>22.0</td>\n",
       "      <td>48.0</td>\n",
       "      <td>residential</td>\n",
       "      <td>4.0</td>\n",
       "      <td>0.0</td>\n",
       "      <td>NaN</td>\n",
       "      <td>id_00003</td>\n",
       "      <td>NaN</td>\n",
       "      <td>NaN</td>\n",
       "      <td>individual_connection</td>\n",
       "      <td>tenant</td>\n",
       "      <td>NaN</td>\n",
       "      <td>yes_4</td>\n",
       "    </tr>\n",
       "  </tbody>\n",
       "</table>\n",
       "</div>"
      ],
      "text/plain": [
       "             sex          water_source_other  no_of_ppl  plot_months  \\\n",
       "id                                                                     \n",
       "id_00001     NaN                         NaN        NaN          NaN   \n",
       "id_00002  female  Lusaka water connected tap       25.0          1.0   \n",
       "id_00003    male                         NaN       22.0         48.0   \n",
       "\n",
       "         type_of_property  no_of_hhs  no_of_toilets  latitude        id  \\\n",
       "id                                                                        \n",
       "id_00001              NaN        NaN            0.0       NaN  id_00001   \n",
       "id_00002      residential        4.0            1.0       NaN  id_00002   \n",
       "id_00003      residential        4.0            0.0       NaN  id_00003   \n",
       "\n",
       "          accuracy  altitude           water_source respondent  longitude  \\\n",
       "id                                                                          \n",
       "id_00001       NaN       NaN                    NaN        NaN        NaN   \n",
       "id_00002       NaN       NaN          other_specify   landlord        NaN   \n",
       "id_00003       NaN       NaN  individual_connection     tenant        NaN   \n",
       "\n",
       "         add_toilets  \n",
       "id                    \n",
       "id_00001         NaN  \n",
       "id_00002         NaN  \n",
       "id_00003       yes_4  "
      ]
     },
     "execution_count": 33,
     "metadata": {},
     "output_type": "execute_result"
    }
   ],
   "source": [
    "s2_agg.head(3)"
   ]
  },
  {
   "cell_type": "code",
   "execution_count": 34,
   "metadata": {},
   "outputs": [
    {
     "data": {
      "text/plain": [
       "landlord     8356\n",
       "tenant       4031\n",
       "caretaker     417\n",
       "Name: respondent, dtype: int64"
      ]
     },
     "execution_count": 34,
     "metadata": {},
     "output_type": "execute_result"
    }
   ],
   "source": [
    "s2_agg.respondent.value_counts()"
   ]
  },
  {
   "cell_type": "code",
   "execution_count": 35,
   "metadata": {},
   "outputs": [
    {
     "data": {
      "text/plain": [
       "water_kiosk              8008\n",
       "individual_connection    2416\n",
       "private                  2398\n",
       "other_specify             457\n",
       "shallow_wells             183\n",
       "Name: water_source, dtype: int64"
      ]
     },
     "execution_count": 35,
     "metadata": {},
     "output_type": "execute_result"
    }
   ],
   "source": [
    "s2_agg.water_source.value_counts()"
   ]
  },
  {
   "cell_type": "code",
   "execution_count": 36,
   "metadata": {},
   "outputs": [
    {
     "data": {
      "text/plain": [
       "yes_1    6414\n",
       "yes_2    3567\n",
       "yes_3     836\n",
       "yes_4     171\n",
       "no         55\n",
       "yes_5      54\n",
       "yes        20\n",
       "yes_6      17\n",
       "yes_7       4\n",
       "yes_8       3\n",
       "yes_9       2\n",
       "Name: add_toilets, dtype: int64"
      ]
     },
     "execution_count": 36,
     "metadata": {},
     "output_type": "execute_result"
    }
   ],
   "source": [
    "s2_agg.add_toilets.value_counts()"
   ]
  },
  {
   "cell_type": "code",
   "execution_count": 37,
   "metadata": {},
   "outputs": [
    {
     "data": {
      "text/plain": [
       "residential             13147\n",
       "school                    129\n",
       "church                     92\n",
       "other_specify              78\n",
       "bar                        69\n",
       "public_toilet_market       10\n",
       "health_facility             7\n",
       "public_toilet               4\n",
       "Name: type_of_property, dtype: int64"
      ]
     },
     "execution_count": 37,
     "metadata": {},
     "output_type": "execute_result"
    }
   ],
   "source": [
    "s2_agg.type_of_property.value_counts()"
   ]
  },
  {
   "cell_type": "code",
   "execution_count": 41,
   "metadata": {},
   "outputs": [
    {
     "name": "stderr",
     "output_type": "stream",
     "text": [
      "/Users/dpb/dev/gather/venv/lib/python3.5/site-packages/matplotlib/axes/_axes.py:6462: UserWarning: The 'normed' kwarg is deprecated, and has been replaced by the 'density' kwarg.\n",
      "  warnings.warn(\"The 'normed' kwarg is deprecated, and has been \"\n"
     ]
    },
    {
     "data": {
      "image/png": "[encoded data removed]",
      "text/plain": [
       "<Figure size 864x720 with 3 Axes>"
      ]
     },
     "metadata": {},
     "output_type": "display_data"
    }
   ],
   "source": [
    "sns.set_style(\"darkgrid\")\n",
    "\n",
    "f, axes = plt.subplots(3,1,figsize=(12,10))\n",
    "\n",
    "s2_agg.no_of_toilets.hist(bins=np.arange(0,12,1), ax=axes[0], normed=True, color=\"dodgerblue\", alpha=0.7, label=\"No. Toilets\")\n",
    "axes[0].set_xticks(np.arange(0,12,1))\n",
    "axes[0].legend()\n",
    "\n",
    "s2_agg.no_of_hhs.hist(bins=np.arange(0,20,1), ax=axes[1], normed=True, color=\"orangered\", alpha=0.7, label=\"No. Households\")\n",
    "axes[1].set_xticks(np.arange(0,20,1))\n",
    "axes[1].legend()\n",
    "\n",
    "s2_agg.no_of_ppl.hist(bins=np.arange(0,60,2), ax=axes[2], normed=True, color=\"mediumseagreen\", alpha=0.7, label=\"No. People\")\n",
    "axes[2].set_xticks(np.arange(0,60,2))\n",
    "axes[2].legend()\n",
    "\n",
    "plt.tight_layout()"
   ]
  },
  {
   "cell_type": "code",
   "execution_count": null,
   "metadata": {},
   "outputs": [],
   "source": []
  },
  {
   "cell_type": "code",
   "execution_count": null,
   "metadata": {},
   "outputs": [],
   "source": []
  }
 ],
 "metadata": {
  "kernelspec": {
   "display_name": "Python 3",
   "language": "python",
   "name": "python3"
  },
  "language_info": {
   "codemirror_mode": {
    "name": "ipython",
    "version": 3
   },
   "file_extension": ".py",
   "mimetype": "text/x-python",
   "name": "python",
   "nbconvert_exporter": "python",
   "pygments_lexer": "ipython3",
   "version": "3.5.1"
  }
 },
 "nbformat": 4,
 "nbformat_minor": 2
}
